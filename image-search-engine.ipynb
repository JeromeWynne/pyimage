{
 "cells": [
  {
   "cell_type": "markdown",
   "metadata": {},
   "source": [
    "### Histograms in machine vision\n",
    "- Represent the distribution of colours in an image.\n",
    "- Can serve as feature vectors -> are images with similar histograms semantically similar?\n",
    "- Measuring distance between histograms:\n",
    "    - Euclidean\n",
    "    - Correlation\n",
    "    - Chi-squared\n",
    "    - Intersection\n",
    "    - Battacharyya"
   ]
  },
  {
   "cell_type": "code",
   "execution_count": 1,
   "metadata": {
    "collapsed": true
   },
   "outputs": [],
   "source": [
    "import cv2"
   ]
  },
  {
   "cell_type": "code",
   "execution_count": 3,
   "metadata": {
    "collapsed": false
   },
   "outputs": [],
   "source": [
    "# cv2.calcHist(images, channels, mask, histSize, ranges)\n",
    "# images -> list of images to compute hists for\n",
    "# list of channels we want to compute a histogram for\n",
    "# mask -> Filter of our choice\n",
    "# histSize -> Number of bins to use in histogram (one for each channel)\n",
    "# ranges -> ranges of possible px values (e.g. [0, 256])"
   ]
  },
  {
   "cell_type": "code",
   "execution_count": null,
   "metadata": {
    "collapsed": true
   },
   "outputs": [],
   "source": [
    "import matplotlib.pyplot as plt\n",
    "import numpy as np\n",
    "import cv2\n",
    "\n",
    "image = "
   ]
  }
 ],
 "metadata": {
  "kernelspec": {
   "display_name": "Python [Root]",
   "language": "python",
   "name": "Python [Root]"
  },
  "language_info": {
   "codemirror_mode": {
    "name": "ipython",
    "version": 3
   },
   "file_extension": ".py",
   "mimetype": "text/x-python",
   "name": "python",
   "nbconvert_exporter": "python",
   "pygments_lexer": "ipython3",
   "version": "3.5.2"
  }
 },
 "nbformat": 4,
 "nbformat_minor": 0
}
